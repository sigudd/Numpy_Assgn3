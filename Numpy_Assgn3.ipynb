{
 "cells": [
  {
   "cell_type": "code",
   "execution_count": 25,
   "metadata": {},
   "outputs": [
    {
     "name": "stdout",
     "output_type": "stream",
     "text": [
      "Oops! <class 'ValueError'> occured.\n",
      "Next Entry.\n",
      "Oops! <class 'ZeroDivisionError'> occured.\n",
      "Next Entry.\n",
      "The entry is 2\n",
      "The reciprocal of 2 is 0.5\n"
     ]
    }
   ],
   "source": [
    "import unicodedata\n",
    "import codecs\n",
    "import sys\n",
    "\n",
    "def checkItems(randomList):\n",
    "    for listItem in randomList:\n",
    "        try:\n",
    "            if isinstance(listItem, str):\n",
    "                item = listItem\n",
    "                raise ValueError\n",
    "            else:\n",
    "                if listItem==0:\n",
    "                    raise ZeroDivisionError\n",
    "                else:\n",
    "                    print(\"The entry is {0}\".format(listItem))\n",
    "                    print(\"The reciprocal of {0} is {1}\".format(listItem,1/listItem))\n",
    "        except ValueError:\n",
    "            print(\"Oops! <class 'ValueError'> occured.\")\n",
    "            print(\"Next Entry.\")\n",
    "            continue\n",
    "        except ZeroDivisionError:\n",
    "            print(\"Oops! <class 'ZeroDivisionError'> occured.\")\n",
    "            print(\"Next Entry.\")\n",
    "            continue\n",
    "\n",
    "randomList = ['a', 0,2]\n",
    "reciprocalValues = checkItems(randomList)"
   ]
  },
  {
   "cell_type": "code",
   "execution_count": 45,
   "metadata": {},
   "outputs": [
    {
     "name": "stdout",
     "output_type": "stream",
     "text": [
      "array item: 1\n",
      "array item: 2\n",
      "array item: a\n",
      "array item: b\n",
      "array item: lastItem\n",
      "Array Out of Bound\n"
     ]
    }
   ],
   "source": [
    "def arrayIteration(arrayItems):\n",
    "    for i in range (0,len(arrayItems)+1):\n",
    "        try:\n",
    "            print(\"array item:\",arrayItems[i])\n",
    "        except IndexError:\n",
    "            print(\"Array Out of Bound\")\n",
    "\n",
    "arrayItems = [1,2,\"a\",\"b\",\"lastItem\"]\n",
    "arrayIteration(arrayItems)"
   ]
  },
  {
   "cell_type": "markdown",
   "metadata": {},
   "source": [
    "#The module created as fibo.py\n",
    " Windows path = C:\\Shilpa\\Ajit\\Anaconda3\\Lib\n",
    "def fib2(): \n",
    "    n1 = 0 \n",
    "    n2 = 1 \n",
    "    n3 = 1 \n",
    "    print(\"Fibonacci sequence upto\",1000,\":\")\n",
    "    while n1 < 1000:\n",
    "        n3 = n1 + n2\n",
    "\n",
    "    #update values\n",
    "        print(n1,end=' , ')\n",
    "        n1 = n2\n",
    "        n2 = n3"
   ]
  },
  {
   "cell_type": "code",
   "execution_count": 48,
   "metadata": {},
   "outputs": [
    {
     "name": "stdout",
     "output_type": "stream",
     "text": [
      "Fibonacci sequence upto 1000 :\n",
      "0 , 1 , 1 , 2 , 3 , 5 , 8 , 13 , 21 , 34 , 55 , 89 , 144 , 233 , 377 , 610 , 987 , "
     ]
    }
   ],
   "source": [
    "import fib2 as fib\n",
    "fib.fib2()\n"
   ]
  },
  {
   "cell_type": "markdown",
   "metadata": {},
   "source": [
    "Windows path = C:\\Shilpa\\Ajit\\Anaconda3\\Lib\n",
    "def ispalindrome(myStr): \n",
    "    if(myStr == myStr[::-1]): \n",
    "        print(\"Yes It is palindrome\")\n",
    "    else: print(\"not a palindrome\")"
   ]
  },
  {
   "cell_type": "code",
   "execution_count": 56,
   "metadata": {},
   "outputs": [
    {
     "name": "stdout",
     "output_type": "stream",
     "text": [
      "palindrome\n",
      "not a palindrome\n"
     ]
    }
   ],
   "source": [
    "import palindrome\n",
    "\n",
    "palindrome.ispalindrome(\"abccba\")\n",
    "palindrome.ispalindrome(\"abc\")"
   ]
  },
  {
   "cell_type": "code",
   "execution_count": null,
   "metadata": {},
   "outputs": [],
   "source": []
  }
 ],
 "metadata": {
  "kernelspec": {
   "display_name": "Python 3",
   "language": "python",
   "name": "python3"
  }
 },
 "nbformat": 4,
 "nbformat_minor": 2
}
